{
 "cells": [
  {
   "cell_type": "code",
   "execution_count": 35,
   "metadata": {},
   "outputs": [],
   "source": [
    "import re\n",
    "import numpy as np\n",
    "from sklearn.model_selection import train_test_split\n"
   ]
  },
  {
   "cell_type": "code",
   "execution_count": 55,
   "metadata": {},
   "outputs": [],
   "source": [
    "f_shakespeare = open('../../data/shakespeare_cleaned.txt','r')\n",
    "shakespeare = f_shakespeare.read()\n",
    "\n",
    "f_obama = open('../../data/obama_cleaned.txt','r')\n",
    "obama = f_obama.read()\n",
    "\n"
   ]
  },
  {
   "cell_type": "code",
   "execution_count": 46,
   "metadata": {},
   "outputs": [
    {
     "name": "stdout",
     "output_type": "stream",
     "text": [
      "384.4099099099099\n",
      "444\n"
     ]
    }
   ],
   "source": [
    "n = 70 #amount of words in each data point\n",
    "obama_words = obama.split(' ')\n",
    "c_obama = [\" \".join(obama_words[i:i+n]) for i in range(0, len(obama_words), n)]\n",
    "\n",
    "print(np.average([len(x) for x in c_obama]))\n",
    "print(len(c_obama))\n"
   ]
  },
  {
   "cell_type": "code",
   "execution_count": 59,
   "metadata": {},
   "outputs": [
    {
     "name": "stdout",
     "output_type": "stream",
     "text": [
      "370.10420193935664\n",
      "12994\n"
     ]
    }
   ],
   "source": [
    "n = 68 #amount of words/sentences in each data point\n",
    "shake_words = shakespeare.split(' ')\n",
    "\n",
    "#split based on n sentences - disabled for now\n",
    "#c_shakespeare = [\". \".join(shake_words[i:i+n]) for i in range(0, len(shake_words), n)]\n",
    "\n",
    "#split based on n words\n",
    "c_shakespeare = [\" \".join(shake_words[i:i+n]) for i in range(0, len(shake_words), n)]\n",
    "\n",
    "np.random.seed(59374)\n",
    "np.random.shuffle(c_shakespeare)\n",
    "\n",
    "print(np.average([len(x) for x in c_shakespeare]))\n",
    "print(len(c_shakespeare))\n"
   ]
  },
  {
   "cell_type": "code",
   "execution_count": 64,
   "metadata": {},
   "outputs": [
    {
     "name": "stdout",
     "output_type": "stream",
     "text": [
      "444\n",
      "444\n",
      "666\n",
      "222\n"
     ]
    }
   ],
   "source": [
    "print(len(c_shakespeare[:444]))\n",
    "print(len(c_obama))\n",
    "\n",
    "l_shakespeare = [(x, \"shakespeare\") for x in c_shakespeare]\n",
    "l_obama = [(x, \"obama\") for x in c_obama]\n",
    "\n",
    "total_data = c_shakespeare[:444] + c_obama\n",
    "np.random.seed(59374)\n",
    "np.random.shuffle(total_data)\n",
    "\n",
    "train, test = train_test_split(total_data)\n",
    "\n",
    "classifier = "
   ]
  },
  {
   "cell_type": "code",
   "execution_count": null,
   "metadata": {},
   "outputs": [],
   "source": []
  }
 ],
 "metadata": {
  "kernelspec": {
   "display_name": "Python 3",
   "language": "python",
   "name": "python3"
  },
  "language_info": {
   "codemirror_mode": {
    "name": "ipython",
    "version": 3
   },
   "file_extension": ".py",
   "mimetype": "text/x-python",
   "name": "python",
   "nbconvert_exporter": "python",
   "pygments_lexer": "ipython3",
   "version": "3.5.2"
  }
 },
 "nbformat": 4,
 "nbformat_minor": 2
}
